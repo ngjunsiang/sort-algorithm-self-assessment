{
 "cells": [
  {
   "cell_type": "markdown",
   "metadata": {},
   "source": [
    "# Self-Assessment: Sort Algorithms\n",
    "\n",
    "This notebook is a quick checklist for you to verify if you are able to implement the sort algorithms on your own (without any pseudocode references)."
   ]
  },
  {
   "cell_type": "markdown",
   "metadata": {},
   "source": [
    "## Part 1: Write tests\n",
    "\n",
    "Implement the following test functions:\n",
    "\n",
    "1. `same_length(array1, array2)`\n",
    "   Returns `True` if both arrays are the same length, otherwise return `False`\n",
    "2. `correct_order(array)`\n",
    "   Returns `True` if each element is smaller than or equal to the next element, otherwise return `False`\n",
    "3. `same_elements(array1, array2)`\n",
    "   Returns `True` if:\n",
    "   - all elements in `array1` are in `array2`\n",
    "   - `array2` has no elements that are not in `array1`\n",
    "   otherwise return `False`"
   ]
  },
  {
   "cell_type": "code",
   "execution_count": null,
   "metadata": {},
   "outputs": [],
   "source": [
    "def same_length(array1, array2):\n",
    "    pass\n",
    "\n",
    "def correct_order(array):\n",
    "    pass\n",
    "\n",
    "def same_elements(array1, array2):\n",
    "    pass"
   ]
  },
  {
   "cell_type": "markdown",
   "metadata": {},
   "source": [
    "## Part 2: Implement algorithms\n",
    "\n",
    "### Task 1: Bubble Sort\n",
    "\n",
    "Implement a Bubble Sort function."
   ]
  },
  {
   "cell_type": "code",
   "execution_count": null,
   "metadata": {},
   "outputs": [],
   "source": [
    "def bubbleSort(array):\n",
    "    pass"
   ]
  },
  {
   "cell_type": "code",
   "execution_count": null,
   "metadata": {},
   "outputs": [],
   "source": [
    "# Test cell for bubbleSort\n",
    "from random import shuffle\n",
    "\n",
    "\n",
    "num = 20  # number of elements to test with\n",
    "in_array = shuffle([i for i in range(num)])\n",
    "out_array = bubbleSort(in_array)\n",
    "\n",
    "print(f'Input array: {in_array}')\n",
    "print(f'Output array: {out_array}')\n",
    "\n",
    "assert same_length(in_array, out_array), \\\n",
    "    \"Input and output elements are not the same length\"\n",
    "assert correct_order(out_array), \\\n",
    "    \"Array elements are not in ascending order\"\n",
    "assert same_elements(in_array, out_array), \\\n",
    "    \"Input and output arrays do not have exactly the same elements\""
   ]
  },
  {
   "cell_type": "markdown",
   "metadata": {},
   "source": [
    "### Task 2: Insertion Sort\n",
    "\n",
    "Implement an Insertion Sort function."
   ]
  },
  {
   "cell_type": "code",
   "execution_count": null,
   "metadata": {},
   "outputs": [],
   "source": [
    "def insertionSort(array):\n",
    "    pass"
   ]
  },
  {
   "cell_type": "code",
   "execution_count": null,
   "metadata": {},
   "outputs": [],
   "source": [
    "# Test cell for insertionSort\n",
    "from random import shuffle\n",
    "\n",
    "\n",
    "num = 20  # number of elements to test with\n",
    "in_array = shuffle([i for i in range(num)])\n",
    "out_array = insertionSort(in_array)\n",
    "\n",
    "print(f'Input array: {in_array}')\n",
    "print(f'Output array: {out_array}')\n",
    "\n",
    "assert same_length(in_array, out_array), \\\n",
    "    \"Input and output elements are not the same length\"\n",
    "assert correct_order(out_array), \\\n",
    "    \"Array elements are not in ascending order\"\n",
    "assert same_elements(in_array, out_array), \\\n",
    "    \"Input and output arrays do not have exactly the same elements\""
   ]
  },
  {
   "cell_type": "markdown",
   "metadata": {},
   "source": [
    "### Task 3: Merge Sort\n",
    "\n",
    "Implement a Merge Sort function."
   ]
  },
  {
   "cell_type": "code",
   "execution_count": null,
   "metadata": {},
   "outputs": [],
   "source": [
    "def mergeSort(array):\n",
    "    pass"
   ]
  },
  {
   "cell_type": "code",
   "execution_count": null,
   "metadata": {},
   "outputs": [],
   "source": [
    "# Test cell for mergeSort\n",
    "from random import shuffle\n",
    "\n",
    "\n",
    "num = 20  # number of elements to test with\n",
    "in_array = shuffle([i for i in range(num)])\n",
    "out_array = mergeSort(in_array)\n",
    "\n",
    "print(f'Input array: {in_array}')\n",
    "print(f'Output array: {out_array}')\n",
    "\n",
    "assert same_length(in_array, out_array), \\\n",
    "    \"Input and output elements are not the same length\"\n",
    "assert correct_order(out_array), \\\n",
    "    \"Array elements are not in ascending order\"\n",
    "assert same_elements(in_array, out_array), \\\n",
    "    \"Input and output arrays do not have exactly the same elements\""
   ]
  },
  {
   "cell_type": "markdown",
   "metadata": {},
   "source": [
    "### Task 4: Quick Sort\n",
    "\n",
    "Implement a Quick Sort function."
   ]
  },
  {
   "cell_type": "code",
   "execution_count": null,
   "metadata": {},
   "outputs": [],
   "source": [
    "def quickSort(array):\n",
    "    pass"
   ]
  },
  {
   "cell_type": "code",
   "execution_count": null,
   "metadata": {},
   "outputs": [],
   "source": [
    "# Test cell for quickSort\n",
    "from random import shuffle\n",
    "\n",
    "\n",
    "num = 20  # number of elements to test with\n",
    "in_array = shuffle([i for i in range(num)])\n",
    "out_array = quickSort(in_array)\n",
    "\n",
    "print(f'Input array: {in_array}')\n",
    "print(f'Output array: {out_array}')\n",
    "\n",
    "assert same_length(in_array, out_array), \\\n",
    "    \"Input and output elements are not the same length\"\n",
    "assert correct_order(out_array), \\\n",
    "    \"Array elements are not in ascending order\"\n",
    "assert same_elements(in_array, out_array), \\\n",
    "    \"Input and output arrays do not have exactly the same elements\""
   ]
  }
 ],
 "metadata": {
  "kernelspec": {
   "display_name": "Python 3",
   "language": "python",
   "name": "python3"
  },
  "language_info": {
   "codemirror_mode": {
    "name": "ipython",
    "version": 3
   },
   "file_extension": ".py",
   "mimetype": "text/x-python",
   "name": "python",
   "nbconvert_exporter": "python",
   "pygments_lexer": "ipython3",
   "version": "3.6.4"
  }
 },
 "nbformat": 4,
 "nbformat_minor": 2
}
